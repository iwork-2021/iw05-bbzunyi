{
 "cells": [
  {
   "cell_type": "markdown",
   "metadata": {},
   "source": [
    "# Train YOLO object detector with Turi Create"
   ]
  },
  {
   "cell_type": "code",
   "execution_count": 11,
   "metadata": {
    "scrolled": true
   },
   "outputs": [
    {
     "ename": "ModuleNotFoundError",
     "evalue": "No module named 'turicreate'",
     "output_type": "error",
     "traceback": [
      "\u001b[0;31m---------------------------------------------------------------------------\u001b[0m",
      "\u001b[0;31mModuleNotFoundError\u001b[0m                       Traceback (most recent call last)",
      "\u001b[0;32m<ipython-input-11-6f9d6bd4e8ae>\u001b[0m in \u001b[0;36m<module>\u001b[0;34m\u001b[0m\n\u001b[1;32m      1\u001b[0m \u001b[0;32mimport\u001b[0m \u001b[0mos\u001b[0m\u001b[0;34m,\u001b[0m \u001b[0msys\u001b[0m\u001b[0;34m,\u001b[0m \u001b[0mmath\u001b[0m\u001b[0;34m\u001b[0m\u001b[0;34m\u001b[0m\u001b[0m\n\u001b[1;32m      2\u001b[0m \u001b[0;32mimport\u001b[0m \u001b[0mpandas\u001b[0m \u001b[0;32mas\u001b[0m \u001b[0mpd\u001b[0m\u001b[0;34m\u001b[0m\u001b[0;34m\u001b[0m\u001b[0m\n\u001b[0;32m----> 3\u001b[0;31m \u001b[0;32mimport\u001b[0m \u001b[0mturicreate\u001b[0m \u001b[0;32mas\u001b[0m \u001b[0mtc\u001b[0m\u001b[0;34m\u001b[0m\u001b[0;34m\u001b[0m\u001b[0m\n\u001b[0m",
      "\u001b[0;31mModuleNotFoundError\u001b[0m: No module named 'turicreate'"
     ]
    }
   ],
   "source": [
    "import os, sys, math\n",
    "import pandas as pd\n",
    "import turicreate as tc"
   ]
  },
  {
   "cell_type": "markdown",
   "metadata": {},
   "source": [
    "Helper code for loading the CSV file and combining it with an SFrame. We only keep the images that we have annotations for."
   ]
  },
  {
   "cell_type": "code",
   "execution_count": 5,
   "metadata": {},
   "outputs": [],
   "source": [
    "def load_images_with_annotations(images_dir, annotations_file):\n",
    "    # Load the images into a Turi SFrame.\n",
    "    data = tc.image_analysis.load_images(images_dir, with_path=True)\n",
    "    \n",
    "    # Load the annotations CSV file into a Pandas dataframe.\n",
    "    csv = pd.read_csv(annotations_file)\n",
    "\n",
    "    # Loop through all the images and match these to the annotations from the\n",
    "    # CSV file, if annotations are available for the image.\n",
    "    all_annotations = []\n",
    "    for i, item in enumerate(data):\n",
    "        # Grab image info from the SFrame.\n",
    "        img_path = item[\"path\"]\n",
    "        img_width = item[\"image\"].width\n",
    "        img_height = item[\"image\"].height\n",
    "\n",
    "        # Find the corresponding row(s) in the CSV's dataframe.\n",
    "        image_id = os.path.basename(img_path)[:-4]\n",
    "        rows = csv[csv[\"image_id\"] == image_id]\n",
    "\n",
    "        # Turi expects a list for every image that contains a dictionary for\n",
    "        # every bounding box that we have an annotation for.\n",
    "        img_annotations = []\n",
    "        for i in rows.itertuples():\n",
    "            img_annotations.append({\"coordinates\": {\"height\": (i[5] - i[4]) * img_height, \n",
    "                                                    \"width\": (i[3] - i[2]) * img_width, \n",
    "                                                    \"x\": (i[3] + i[2]) / 2 * img_width, \n",
    "                                                    \"y\": (i[5] + i[4]) / 2 * img_height}, \n",
    "                                    \"label\": i[6]})\n",
    "        # The CSV file stores the coordinate as numbers between 0 and 1,\n",
    "        # but Turi wants pixel coordinates in the image.\n",
    "        \n",
    "        # A bounding box in Turi is given by a center coordinate and the\n",
    "        # width and height, we have them as the four corners of the box.\n",
    "\n",
    "            \n",
    "            # img_annotations.append({\"coordinates\": {\"height\": height, \n",
    "            #                                         \"width\": width, \n",
    "            #                                         \"x\": x, \n",
    "            #                                         \"y\": y}, \n",
    "            #                         \"label\": class_name})\n",
    "\n",
    "        # If there were no annotations for this image, then append a None\n",
    "        # so that we can filter out those images from the SFrame.\n",
    "        if len(img_annotations) > 0:\n",
    "            all_annotations.append(img_annotations)\n",
    "        else:\n",
    "            all_annotations.append(None)\n",
    "\n",
    "    data[\"annotations\"] = tc.SArray(data=all_annotations, dtype=list)\n",
    "    return data.dropna()"
   ]
  },
  {
   "cell_type": "code",
   "execution_count": 6,
   "metadata": {},
   "outputs": [],
   "source": [
    "data_dir = \"snacks\"\n",
    "train_dir = os.path.join(data_dir, \"train\")\n",
    "val_dir = os.path.join(data_dir, \"val\")\n",
    "test_dir = os.path.join(data_dir, \"test\")"
   ]
  },
  {
   "cell_type": "code",
   "execution_count": null,
   "metadata": {},
   "outputs": [],
   "source": [
    "train_data = load_images_with_annotations(train_dir, data_dir + \"/annotations-train.csv\")"
   ]
  },
  {
   "cell_type": "code",
   "execution_count": null,
   "metadata": {},
   "outputs": [],
   "source": [
    "len(train_data)"
   ]
  },
  {
   "cell_type": "code",
   "execution_count": null,
   "metadata": {},
   "outputs": [],
   "source": [
    "train_data.head()"
   ]
  },
  {
   "cell_type": "code",
   "execution_count": null,
   "metadata": {},
   "outputs": [],
   "source": [
    "train_data[0]"
   ]
  },
  {
   "cell_type": "markdown",
   "metadata": {},
   "source": [
    "Visualize the bounding boxes on top of the training data:"
   ]
  },
  {
   "cell_type": "code",
   "execution_count": null,
   "metadata": {},
   "outputs": [],
   "source": [
    "train_data['image_with_ground_truth'] = tc.object_detector.util.draw_bounding_boxes(\n",
    "                                            train_data['image'], train_data['annotations'])\n",
    "train_data.explore()"
   ]
  },
  {
   "cell_type": "markdown",
   "metadata": {},
   "source": [
    "Train the model. This first downloads the Darknet feature extractor."
   ]
  },
  {
   "cell_type": "code",
   "execution_count": null,
   "metadata": {
    "scrolled": true
   },
   "outputs": [],
   "source": [
    "model = tc.object_detector.create(train_data, feature='image', annotations='annotations')"
   ]
  },
  {
   "cell_type": "markdown",
   "metadata": {},
   "source": [
    "Save the model. Also export to Core ML."
   ]
  },
  {
   "cell_type": "code",
   "execution_count": null,
   "metadata": {},
   "outputs": [],
   "source": [
    "model.save(\"SnackDetector.model\")"
   ]
  },
  {
   "cell_type": "code",
   "execution_count": null,
   "metadata": {},
   "outputs": [],
   "source": [
    "model.export_coreml(\"SnackDetector.mlmodel\")"
   ]
  },
  {
   "cell_type": "markdown",
   "metadata": {},
   "source": [
    "Load the model and evaluate it on the test set."
   ]
  },
  {
   "cell_type": "code",
   "execution_count": null,
   "metadata": {},
   "outputs": [],
   "source": [
    "model = tc.load_model(\"SnackDetector.model\")"
   ]
  },
  {
   "cell_type": "code",
   "execution_count": null,
   "metadata": {},
   "outputs": [],
   "source": [
    "val_data = load_images_with_annotations(val_dir, data_dir + \"/annotations-val.csv\")\n",
    "test_data = load_images_with_annotations(test_dir, data_dir + \"/annotations-test.csv\")"
   ]
  },
  {
   "cell_type": "code",
   "execution_count": null,
   "metadata": {},
   "outputs": [],
   "source": [
    "scores = model.evaluate(test_data)"
   ]
  },
  {
   "cell_type": "markdown",
   "metadata": {},
   "source": [
    "`model.evaluate()` computes the \"average precision\" for each class, as well as the overall mean average precision metric. Higher is better."
   ]
  },
  {
   "cell_type": "code",
   "execution_count": null,
   "metadata": {},
   "outputs": [],
   "source": [
    "scores"
   ]
  },
  {
   "cell_type": "markdown",
   "metadata": {},
   "source": [
    "Make predictions on the test data. This outputs something like this:\n",
    "\n",
    "```\n",
    "[{'confidence': 0.7225357099539148,\n",
    "  'coordinates': {'height': 73.92794444010806,\n",
    "                  'width': 90.45315889211807,\n",
    "                  'x': 262.2198759929745,\n",
    "                  'y': 155.496952970812},\n",
    "  'label': 'dog',\n",
    "  'type': 'rectangle'},\n",
    " ...]\n",
    "```\n",
    "\n",
    "which is similar to the annotations, but now there is a `confidence` field as well."
   ]
  },
  {
   "cell_type": "code",
   "execution_count": null,
   "metadata": {},
   "outputs": [],
   "source": [
    "test_data[\"predictions\"] = model.predict(test_data)"
   ]
  },
  {
   "cell_type": "code",
   "execution_count": null,
   "metadata": {},
   "outputs": [],
   "source": [
    "test_data.head()"
   ]
  },
  {
   "cell_type": "markdown",
   "metadata": {},
   "source": [
    "Visualize the predicted bounding boxes on top of the test set:"
   ]
  },
  {
   "cell_type": "code",
   "execution_count": null,
   "metadata": {},
   "outputs": [],
   "source": [
    "test_data['image_with_predictions'] = tc.object_detector.util.draw_bounding_boxes(\n",
    "                                           test_data['image'], test_data['predictions'])"
   ]
  },
  {
   "cell_type": "code",
   "execution_count": null,
   "metadata": {},
   "outputs": [],
   "source": [
    "test_data.head()"
   ]
  },
  {
   "cell_type": "code",
   "execution_count": null,
   "metadata": {},
   "outputs": [],
   "source": [
    "test_data.explore()"
   ]
  },
  {
   "cell_type": "code",
   "execution_count": null,
   "metadata": {},
   "outputs": [],
   "source": []
  }
 ],
 "metadata": {
  "kernelspec": {
   "display_name": "Python 3",
   "language": "python",
   "name": "python3"
  },
  "language_info": {
   "codemirror_mode": {
    "name": "ipython",
    "version": 3
   },
   "file_extension": ".py",
   "mimetype": "text/x-python",
   "name": "python",
   "nbconvert_exporter": "python",
   "pygments_lexer": "ipython3",
   "version": "3.9.5"
  }
 },
 "nbformat": 4,
 "nbformat_minor": 2
}
